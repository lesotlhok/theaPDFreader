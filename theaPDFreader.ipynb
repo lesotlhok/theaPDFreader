{
 "cells": [
  {
   "attachments": {},
   "cell_type": "markdown",
   "metadata": {},
   "source": [
    "# theaPDFreader"
   ]
  },
  {
   "cell_type": "code",
   "execution_count": 2,
   "metadata": {},
   "outputs": [],
   "source": [
    "import tkinter as tk\n",
    "from tkinter import filedialog\n",
    "from tkinter import messagebox\n",
    "import PyPDF2\n",
    "import pyttsx3"
   ]
  },
  {
   "cell_type": "code",
   "execution_count": 3,
   "metadata": {},
   "outputs": [],
   "source": [
    "def browse_file():\n",
    "    file_path = filedialog.askopenfilename()\n",
    "    file_entry.delete(0, tk.END)\n",
    "    file_entry.insert(0, file_path)\n",
    "    return file_path\n",
    "\n",
    "def start_reading(file_path, speed):\n",
    "    engine = pyttsx3.init()\n",
    "    engine.setProperty('rate', speed) \n",
    "    with open(file_path, 'rb') as file:\n",
    "        pdf = PyPDF2.PdfReader(file)\n",
    "        num_pages = len(pdf.pages)\n",
    "        for page_num in range(num_pages):\n",
    "            page = pdf.pages[page_num]\n",
    "            text = page.extract_text()\n",
    "            engine.say(text)\n",
    "            engine.runAndWait()"
   ]
  },
  {
   "cell_type": "code",
   "execution_count": 4,
   "metadata": {},
   "outputs": [],
   "source": [
    "def adjust_speed(speed):\n",
    "    speed = float(speed)\n",
    "    start_reading(file_path, speed)"
   ]
  },
  {
   "cell_type": "code",
   "execution_count": 5,
   "metadata": {},
   "outputs": [
    {
     "data": {
      "text/plain": [
       "''"
      ]
     },
     "execution_count": 5,
     "metadata": {},
     "output_type": "execute_result"
    }
   ],
   "source": [
    "root = tk.Tk()\n",
    "root.title(\"PDF Reader\")\n",
    "root.geometry(\"400x200\")"
   ]
  },
  {
   "cell_type": "code",
   "execution_count": 6,
   "metadata": {},
   "outputs": [],
   "source": [
    "file_label = tk.Label(root, text=\"File\")\n",
    "file_label.grid(row=0, column=0)\n",
    "\n",
    "file_entry = tk.Entry(root)\n",
    "file_entry.grid(row=0, column=1)\n",
    "\n",
    "browse_button = tk.Button(root, text=\"Browse\", command=browse_file)\n",
    "browse_button.grid(row=0, column=2)"
   ]
  },
  {
   "cell_type": "code",
   "execution_count": 7,
   "metadata": {},
   "outputs": [],
   "source": [
    "speed_label = tk.Label(root, text=\"Speed\")\n",
    "speed_label.grid(row=1, column=0)\n",
    "\n",
    "speed_scale = tk.Scale(root, from_=50, to=200, orient=tk.HORIZONTAL, command=adjust_speed)\n",
    "speed_scale.set(100)\n",
    "speed_scale.grid(row=1, column=1)\n",
    "\n",
    "start_button = tk.Button(root, text=\"Start\", command=lambda: start_reading(file_entry.get(), speed_scale.get()))\n",
    "start_button.grid(row=2, column=1)"
   ]
  },
  {
   "cell_type": "code",
   "execution_count": null,
   "metadata": {},
   "outputs": [],
   "source": []
  },
  {
   "cell_type": "code",
   "execution_count": 8,
   "metadata": {},
   "outputs": [],
   "source": [
    "root.mainloop()"
   ]
  }
 ],
 "metadata": {
  "kernelspec": {
   "display_name": "thea",
   "language": "python",
   "name": "python3"
  },
  "language_info": {
   "codemirror_mode": {
    "name": "ipython",
    "version": 3
   },
   "file_extension": ".py",
   "mimetype": "text/x-python",
   "name": "python",
   "nbconvert_exporter": "python",
   "pygments_lexer": "ipython3",
   "version": "3.7.15"
  },
  "orig_nbformat": 4,
  "vscode": {
   "interpreter": {
    "hash": "efac005d3de3b7bc026c9cbf33f4b11fc7f97ffdcc82562409d2f04107140a76"
   }
  }
 },
 "nbformat": 4,
 "nbformat_minor": 2
}
